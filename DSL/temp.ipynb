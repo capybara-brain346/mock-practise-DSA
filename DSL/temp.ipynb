{
 "cells": [
  {
   "cell_type": "code",
   "execution_count": null,
   "id": "cc5064a3",
   "metadata": {
    "tags": []
   },
   "outputs": [],
   "source": [
    "arr = [1, 3, 5, 7, 9, 11, 13, 15, 17, 19, 21, 23, 25, 27, 29, 31, 33, 35, 37, 39]\n",
    "sarr = [23, 7, 14, 32, 18, 5, 10, 28, 16, 41, 12, 3, 30, 20, 37, 9, 26, 35, 8, 19]\n",
    "m1 = [\n",
    "    [1, 2, 3],\n",
    "    [4, 5, 6],\n",
    "    [7, 8, 9]\n",
    "]\n",
    "\n",
    "m2 = [\n",
    "    [10, 11, 12],\n",
    "    [13, 14, 15],\n",
    "    [16, 17, 18]\n",
    "]\n",
    "\n"
   ]
  },
  {
   "cell_type": "code",
   "execution_count": null,
   "id": "b06715bd",
   "metadata": {},
   "outputs": [
    {
     "name": "stdout",
     "output_type": "stream",
     "text": [
      "4\n",
      "4\n"
     ]
    }
   ],
   "source": [
    "def linear(arr,target):\n",
    "    for i,j in enumerate(arr):\n",
    "        if j == target:\n",
    "            return i\n",
    "def sentinal(arr,target):\n",
    "    arr.append(target)\n",
    "    i = 0\n",
    "    while(arr[i]!=target):\n",
    "        i+=1\n",
    "    if i==len(arr):\n",
    "        return \"Not Found\"\n",
    "    else:\n",
    "        return i\n",
    "    \n",
    "print(linear([5,4,2,7,8,0],8))\n",
    "print(sentinal([5,4,2,7,8,0],8))"
   ]
  },
  {
   "cell_type": "code",
   "execution_count": null,
   "id": "672438c1",
   "metadata": {},
   "outputs": [
    {
     "name": "stdout",
     "output_type": "stream",
     "text": [
      "10\n"
     ]
    }
   ],
   "source": [
    "def binary(arr,target):\n",
    "    low = 0\n",
    "    up = len(arr)-1\n",
    "    while(low<=up):\n",
    "        mid = (low+up)//2\n",
    "        if arr[mid]==target:\n",
    "            return mid\n",
    "        elif arr[mid]<target:\n",
    "            low = mid+1\n",
    "        else: \n",
    "            up = mid-1\n",
    "    return \"Not Found\"\n",
    "\n",
    "print(binary(arr,21))\n",
    "    "
   ]
  },
  {
   "cell_type": "code",
   "execution_count": null,
   "id": "e520a0fb",
   "metadata": {},
   "outputs": [
    {
     "ename": "UnboundLocalError",
     "evalue": "cannot access local variable 'f2' where it is not associated with a value",
     "output_type": "error",
     "traceback": [
      "\u001b[1;31m---------------------------------------------------------------------------\u001b[0m",
      "\u001b[1;31mUnboundLocalError\u001b[0m                         Traceback (most recent call last)",
      "Cell \u001b[1;32mIn[40], line 27\u001b[0m\n\u001b[0;32m     24\u001b[0m         \u001b[38;5;28;01mreturn\u001b[39;00m size\u001b[38;5;241m-\u001b[39m\u001b[38;5;241m1\u001b[39m\n\u001b[0;32m     25\u001b[0m     \u001b[38;5;28;01mreturn\u001b[39;00m \u001b[38;5;28;01mNone\u001b[39;00m\n\u001b[1;32m---> 27\u001b[0m \u001b[38;5;28mprint\u001b[39m(fibonacci(arr,\u001b[38;5;241m21\u001b[39m))\n",
      "Cell \u001b[1;32mIn[40], line 5\u001b[0m, in \u001b[0;36mfibonacci\u001b[1;34m(arr, target)\u001b[0m\n\u001b[0;32m      2\u001b[0m start \u001b[38;5;241m=\u001b[39m \u001b[38;5;241m-\u001b[39m\u001b[38;5;241m1\u001b[39m\n\u001b[0;32m      3\u001b[0m size \u001b[38;5;241m=\u001b[39m \u001b[38;5;28mlen\u001b[39m(arr)\n\u001b[1;32m----> 5\u001b[0m \u001b[38;5;28;01mwhile\u001b[39;00m(f2\u001b[38;5;241m<\u001b[39msize):\n\u001b[0;32m      6\u001b[0m     f0 \u001b[38;5;241m=\u001b[39m \u001b[38;5;241m0\u001b[39m\n\u001b[0;32m      7\u001b[0m     f1 \u001b[38;5;241m=\u001b[39m \u001b[38;5;241m1\u001b[39m\n",
      "\u001b[1;31mUnboundLocalError\u001b[0m: cannot access local variable 'f2' where it is not associated with a value"
     ]
    }
   ],
   "source": [
    "def fibonacci(arr,target):\n",
    "    start = -1\n",
    "    size = len(arr)\n",
    "    f0 = 0\n",
    "    f1 = 1\n",
    "    h f2 = 1\n",
    "    while(f2<size):\n",
    "        f0 = 0\n",
    "        f1 = 1\n",
    "        f2 = 1\n",
    "        \n",
    "    while(f2>1):\n",
    "        index = min(start+f0,size-1)\n",
    "        if arr[index]<target:\n",
    "            f2 = f1\n",
    "            f1 = f1-f0\n",
    "            f0 = f2-f1\n",
    "            start = index\n",
    "        elif arr[index]>target:\n",
    "            f2 = f0\n",
    "            f1 = f1-f0\n",
    "            f2 = f2-f1\n",
    "        else: return index\n",
    "        \n",
    "    if (f1) and (arr[size-1]==target):\n",
    "        return size-1\n",
    "    return None\n",
    "\n",
    "print(fibonacci(arr,21))"
   ]
  },
  {
   "cell_type": "code",
   "execution_count": null,
   "id": "033ce4b5",
   "metadata": {},
   "outputs": [
    {
     "name": "stdout",
     "output_type": "stream",
     "text": [
      "[3, 5, 7, 8, 9, 10, 12, 14, 16, 18, 19, 20, 23, 26, 28, 30, 32, 35, 37, 41]\n"
     ]
    }
   ],
   "source": [
    "# def insertion(arr):\n",
    "#     for i in range(1,len(arr)):\n",
    "#         j=i\n",
    "#         while(arr[j-1]>arr[j] and j>0):\n",
    "#             arr[j-1],arr[j] = arr[j], arr[j-1]\n",
    "#             j-=1\n",
    "#     return arr\n",
    "print(insertion(sarr))"
   ]
  },
  {
   "cell_type": "code",
   "execution_count": null,
   "id": "8d4888a8",
   "metadata": {},
   "outputs": [
    {
     "name": "stdout",
     "output_type": "stream",
     "text": [
      "[3, 5, 7, 8, 9, 10, 12, 14, 16, 18, 19, 20, 23, 26, 28, 30, 32, 35, 37, 41]\n"
     ]
    }
   ],
   "source": [
    "def selection(arr):\n",
    "    for i in range(len(arr)-1):\n",
    "        min = i\n",
    "        for j in range(i,len(arr)):\n",
    "            if arr[j]<arr[min]:\n",
    "                min = j\n",
    "        \n",
    "        arr[i],arr[min]=arr[i],arr[min]\n",
    "    return arr\n",
    "print(selection(sarr))"
   ]
  },
  {
   "cell_type": "code",
   "execution_count": null,
   "id": "c985f4f8",
   "metadata": {},
   "outputs": [
    {
     "ename": "",
     "evalue": "",
     "output_type": "error",
     "traceback": [
      "\u001b[1;31mRunning cells with 'base' requires the ipykernel package.\n",
      "\u001b[1;31mRun the following command to install 'ipykernel' into the Python environment. \n",
      "\u001b[1;31mCommand: 'conda install -n base ipykernel --update-deps --force-reinstall'"
     ]
    }
   ],
   "source": [
    "def bubble(arr):\n",
    "    for i in range(len(arr)-1,0,-1):\n",
    "        for j in range(i):\n",
    "            if arr[j] > arr[j+1]:\n",
    "                arr[j],arr[j+1] = arr[j+1],arr[j]\n",
    "    return arr\n",
    "print(bubble(sarr))\n",
    "            "
   ]
  },
  {
   "cell_type": "code",
   "execution_count": null,
   "id": "2d1e935d",
   "metadata": {},
   "outputs": [
    {
     "name": "stdout",
     "output_type": "stream",
     "text": [
      "[3, 5, 7, 8, 9, 10, 12, 14, 16, 18, 19, 20, 23, 26, 28, 30, 32, 35, 37, 41]\n"
     ]
    }
   ],
   "source": [
    "def insertion(arr):\n",
    "    for i in range(1,len(arr)):\n",
    "        j=i\n",
    "        while arr[j-1]>arr[j] and j>0:\n",
    "            arr[j-1],arr[j] = arr[j],arr[j-1]\n",
    "            j-=1\n",
    "        return arr\n",
    "print(insertion(sarr))"
   ]
  },
  {
   "cell_type": "code",
   "execution_count": null,
   "id": "d3582fb3",
   "metadata": {},
   "outputs": [
    {
     "name": "stdout",
     "output_type": "stream",
     "text": [
      "[3, 5, 7, 8, 9, 10, 12, 14, 16, 18, 19, 20, 23, 26, 28, 30, 32, 35, 37, 41]\n"
     ]
    }
   ],
   "source": [
    "def selection(arr):\n",
    "    for i in range(len(arr)-1):\n",
    "        min = i\n",
    "        for j in range(i,len(arr)):\n",
    "            if arr[j]<arr[min]:\n",
    "                min = j\n",
    "        arr[i],arr[min] = arr[min],arr[i]\n",
    "    return arr\n",
    "print(selection(sarr))"
   ]
  },
  {
   "cell_type": "code",
   "execution_count": null,
   "id": "9e4e2afe",
   "metadata": {},
   "outputs": [
    {
     "name": "stdout",
     "output_type": "stream",
     "text": [
      "[3, 5, 7, 8, 9, 10, 12, 14, 16, 18, 19, 20, 23, 26, 28, 30, 32, 35, 37, 41]\n"
     ]
    }
   ],
   "source": [
    "def bubble(arr):\n",
    "    for i in range(len(arr)-1,0,-1):\n",
    "        for j in range(i):\n",
    "            if arr[j]>arr[j+1]:\n",
    "                arr[j],arr[j+1]=arr[j],arr[j+1]\n",
    "    return arr\n",
    "print(bubble(sarr))"
   ]
  },
  {
   "cell_type": "code",
   "execution_count": null,
   "id": "336cf289",
   "metadata": {
    "tags": []
   },
   "outputs": [
    {
     "name": "stdout",
     "output_type": "stream",
     "text": [
      "[[11, 13, 15], [17, 19, 21], [23, 25, 27]]\n"
     ]
    }
   ],
   "source": [
    "def add(m1,m2):\n",
    "    result = [[] for i in range(len(m1))]\n",
    "    for i in range(len(m1)):\n",
    "        for j in range(len(m1[0])):\n",
    "            result[i].append(m1[i][j]+m2[i][j])\n",
    "    return result\n",
    "\n",
    "print(add(m1,m2))"
   ]
  },
  {
   "cell_type": "code",
   "execution_count": null,
   "id": "01423e58",
   "metadata": {
    "tags": []
   },
   "outputs": [
    {
     "name": "stdout",
     "output_type": "stream",
     "text": [
      "[[84, 90, 96], [201, 216, 231], [318, 342, 366]]\n"
     ]
    }
   ],
   "source": [
    "def mul(m1,m2):\n",
    "    result = []\n",
    "    for i in range(len(m1)):\n",
    "        row = []\n",
    "        for j in range(len(m2[0])):\n",
    "            element = 0\n",
    "            for k in range(len(m2)):\n",
    "                element+=m1[i][k]*m2[k][j]\n",
    "            row.append(element)\n",
    "        result.append(row)\n",
    "    print(result)\n",
    "mul(m1,m2)"
   ]
  },
  {
   "cell_type": "code",
   "execution_count": null,
   "id": "563066b2",
   "metadata": {
    "tags": []
   },
   "outputs": [
    {
     "name": "stdout",
     "output_type": "stream",
     "text": [
      "[[1, 4, 7], [2, 5, 8], [3, 6, 9]]\n"
     ]
    }
   ],
   "source": [
    "def tran(m1):\n",
    "    row = len(m1[0])\n",
    "    col = len(m1)\n",
    "    t = [[0 for i in range(row)] for j in range(col)]\n",
    "    for i in range(row):\n",
    "        for j in range(col):\n",
    "            t[j][i] = m1[i][j]\n",
    "    print(t)\n",
    "tran(m1)\n",
    "            "
   ]
  },
  {
   "cell_type": "code",
   "execution_count": null,
   "id": "82c28589",
   "metadata": {},
   "outputs": [
    {
     "ename": "",
     "evalue": "",
     "output_type": "error",
     "traceback": [
      "\u001b[1;31mRunning cells with 'base' requires the ipykernel package.\n",
      "\u001b[1;31mRun the following command to install 'ipykernel' into the Python environment. \n",
      "\u001b[1;31mCommand: 'conda install -n base ipykernel --update-deps --force-reinstall'"
     ]
    }
   ],
   "source": [
    "def linear(arr: list[int],target: int) -> int:\n",
    "    for i,j in enumerate(arr):\n",
    "        if j == target:\n",
    "            return i\n",
    "        \n",
    "def sentinel(arr,target):\n",
    "    arr.append(target)\n",
    "    i: int = 0\n",
    "    while(arr[i]!=target):\n",
    "        i+=1\n",
    "    if i == len(arr)-1:\n",
    "        return \"Not Found\"\n",
    "    return i\n",
    "\n",
    "def binary(arr,target):\n",
    "    low = 0\n",
    "    up = len(arr)-1\n",
    "    while low<=up:\n",
    "        mid = (low+up)//2\n",
    "        if arr[mid] == target:\n",
    "            return mid\n",
    "        elif arr[mid]<target:\n",
    "            low = mid + 1\n",
    "        else:\n",
    "            up = mid - 1\n",
    "\n",
    "    return \"Not Found\"\n",
    "\n",
    "def fibonacci(arr,target):\n",
    "    start = -1\n",
    "    size = len(arr)\n",
    "    \n",
    "    f0,f1, f2 = 0,1,1\n",
    "    \n",
    "    while f2<size:\n",
    "        f0,f1,f2=f1,f2,f1-f0\n",
    "\n",
    "    while f2>1:\n",
    "        index = (start+f0, size-1)\n",
    "        if arr[index]<target:\n",
    "            f2 = f1\n",
    "            f1 = f1-f0\n",
    "            f2 = f2-f1\n",
    "            start = index\n",
    "        elif arr[index]>target:\n",
    "            f2 = f0\n",
    "            f1 = f1-f0\n",
    "            f2 = f2-f1\n",
    "        else: \n",
    "            return index\n",
    "    if (f1) and (arr[size-1]==target):\n",
    "        return size-1\n",
    "\n",
    "print(linear(arr),21)\n",
    "print(sentinel(arr),21)\n",
    "print(binary(sarr),12)\n",
    "print(fibonacci(sarr),12)   \n",
    "        "
   ]
  }
 ],
 "metadata": {
  "kernelspec": {
   "display_name": "Python 3 (ipykernel)",
   "language": "python",
   "name": "python3"
  },
  "language_info": {
   "codemirror_mode": {
    "name": "ipython",
    "version": 3
   },
   "file_extension": ".py",
   "mimetype": "text/x-python",
   "name": "python",
   "nbconvert_exporter": "python",
   "pygments_lexer": "ipython3",
   "version": "3.11.5"
  }
 },
 "nbformat": 4,
 "nbformat_minor": 5
}
