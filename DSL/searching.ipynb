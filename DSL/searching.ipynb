{
 "cells": [
  {
   "cell_type": "markdown",
   "metadata": {},
   "source": [
    "#Linear and sentinel search"
   ]
  },
  {
   "cell_type": "code",
   "execution_count": 10,
   "metadata": {},
   "outputs": [],
   "source": [
    "def linear(arr,target):\n",
    "    for i,j in enumerate(arr) :\n",
    "        if j == target:\n",
    "            return i\n",
    "    return -1\n",
    "\n",
    "def sentinel(arr,target):\n",
    "    arr.append(target)\n",
    "    i = 0\n",
    "    while (arr[i]!=target):\n",
    "        i+=1\n",
    "    if i == len(arr):\n",
    "        return -1\n",
    "    return i"
   ]
  },
  {
   "cell_type": "code",
   "execution_count": 11,
   "metadata": {},
   "outputs": [
    {
     "name": "stdout",
     "output_type": "stream",
     "text": [
      "6\n",
      "6\n"
     ]
    }
   ],
   "source": [
    "print(linear([5,4,2,8,7,6,10,12],10))\n",
    "print(sentinel([5,4,2,8,7,6,10,12],10))"
   ]
  },
  {
   "cell_type": "markdown",
   "metadata": {},
   "source": [
    "#Binary and fibonacci search"
   ]
  },
  {
   "cell_type": "code",
   "execution_count": 1,
   "metadata": {},
   "outputs": [],
   "source": [
    "def binary(arr,target):\n",
    "        start = 0\n",
    "        end = len(arr) - 1\n",
    "        while start<=end:\n",
    "            mid = (start+end)//2\n",
    "            if (arr[mid]>target):\n",
    "                end = mid - 1\n",
    "            elif (arr[mid]<target):\n",
    "                 start = mid+1\n",
    "            else:\n",
    "                 return mid\n",
    "        return None\n",
    "\n",
    "def fibonacci(arr,target):\n",
    "    size = len(arr)\n",
    "    start = -1\n",
    "    f0 = 0\n",
    "    f1 = 1\n",
    "    f2 = 1\n",
    "    while (f2<size):\n",
    "        f0 = f1\n",
    "        f1 = f2\n",
    "        f2 = f1+f0\n",
    "\n",
    "    while (f2 > 1):\n",
    "        index = min(start+f0, size - 1)\n",
    "        if arr[index]<target:\n",
    "            f2 = f1\n",
    "            f1 = f0\n",
    "            f0 = f2-f1\n",
    "            start = index\n",
    "        elif arr[index]>target:\n",
    "            f2 = f0\n",
    "            f1 = f1-f0\n",
    "            f0 = f2 - f1\n",
    "        else: return index\n",
    "    \n",
    "            \n",
    "                \n",
    "         "
   ]
  },
  {
   "cell_type": "code",
   "execution_count": 4,
   "metadata": {},
   "outputs": [
    {
     "name": "stdout",
     "output_type": "stream",
     "text": [
      "6\n"
     ]
    }
   ],
   "source": [
    "print(fibonacci([3,4,5,6,7,8,9],9))"
   ]
  },
  {
   "cell_type": "code",
   "execution_count": 11,
   "metadata": {},
   "outputs": [],
   "source": [
    "def bubble(arr):\n",
    "    size = len(arr)\n",
    "    for i in range(size-1):\n",
    "        for j in range(size-i-1):\n",
    "            if arr[j]>arr[j+1]:\n",
    "                arr[j],arr[j+1]=arr[j+1],arr[j]\n",
    "    return arr\n",
    "\n",
    "def selection(arr):\n",
    "    size = len(arr)\n",
    "    for i in range(size-1):\n",
    "        min = i\n",
    "        for j in range(i+1,size):\n",
    "            if arr[j]<arr[min]:\n",
    "                min = j\n",
    "        arr[i],arr[min] = arr[min],arr[i]\n",
    "    return arr"
   ]
  },
  {
   "cell_type": "code",
   "execution_count": 12,
   "metadata": {},
   "outputs": [
    {
     "name": "stdout",
     "output_type": "stream",
     "text": [
      "[1, 3, 4, 4, 7, 8, 9]\n",
      "[1, 3, 4, 4, 7, 8, 9]\n"
     ]
    }
   ],
   "source": [
    "print(bubble([8,4,7,3,1,4,9]))\n",
    "print(selection([8,4,7,3,1,4,9]))"
   ]
  },
  {
   "cell_type": "code",
   "execution_count": 13,
   "metadata": {},
   "outputs": [],
   "source": [
    "def insertion(arr):\n",
    "    for i in range(1,len(arr)):\n",
    "        for j in range(i-1,-1,-1):\n",
    "            if arr[j]>arr[j+1]:\n",
    "                arr[j],arr[j+1] = arr[j+1],arr[j]\n",
    "    return arr"
   ]
  },
  {
   "cell_type": "code",
   "execution_count": 14,
   "metadata": {},
   "outputs": [
    {
     "name": "stdout",
     "output_type": "stream",
     "text": [
      "[1, 3, 4, 4, 7, 8, 9]\n"
     ]
    }
   ],
   "source": [
    "print(insertion([8,4,7,3,1,4,9]))"
   ]
  }
 ],
 "metadata": {
  "kernelspec": {
   "display_name": "Python 3 (ipykernel)",
   "language": "python",
   "name": "python3"
  },
  "language_info": {
   "codemirror_mode": {
    "name": "ipython",
    "version": 3
   },
   "file_extension": ".py",
   "mimetype": "text/x-python",
   "name": "python",
   "nbconvert_exporter": "python",
   "pygments_lexer": "ipython3",
   "version": "3.11.5"
  }
 },
 "nbformat": 4,
 "nbformat_minor": 4
}
